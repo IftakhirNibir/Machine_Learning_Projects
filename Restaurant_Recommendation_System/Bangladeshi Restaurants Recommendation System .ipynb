{
 "cells": [
  {
   "cell_type": "code",
   "execution_count": 1,
   "id": "ac2bde50",
   "metadata": {},
   "outputs": [],
   "source": [
    "import pandas as pd"
   ]
  },
  {
   "cell_type": "code",
   "execution_count": 2,
   "id": "529331df",
   "metadata": {},
   "outputs": [],
   "source": [
    "df = pd.read_csv(\"restaurants.csv\")"
   ]
  },
  {
   "cell_type": "code",
   "execution_count": 3,
   "id": "63e2cf09",
   "metadata": {},
   "outputs": [
    {
     "data": {
      "text/html": [
       "<div>\n",
       "<style scoped>\n",
       "    .dataframe tbody tr th:only-of-type {\n",
       "        vertical-align: middle;\n",
       "    }\n",
       "\n",
       "    .dataframe tbody tr th {\n",
       "        vertical-align: top;\n",
       "    }\n",
       "\n",
       "    .dataframe thead th {\n",
       "        text-align: right;\n",
       "    }\n",
       "</style>\n",
       "<table border=\"1\" class=\"dataframe\">\n",
       "  <thead>\n",
       "    <tr style=\"text-align: right;\">\n",
       "      <th></th>\n",
       "      <th>place_id</th>\n",
       "      <th>name</th>\n",
       "      <th>latitude</th>\n",
       "      <th>longitude</th>\n",
       "      <th>rating</th>\n",
       "      <th>number_of_reviews</th>\n",
       "      <th>affluence</th>\n",
       "      <th>address</th>\n",
       "    </tr>\n",
       "  </thead>\n",
       "  <tbody>\n",
       "    <tr>\n",
       "      <th>0</th>\n",
       "      <td>ChIJx1i4PyCtqjARq5eQI4YeUFE</td>\n",
       "      <td>Jamal Store, Joykul Bazaar</td>\n",
       "      <td>22.604275</td>\n",
       "      <td>90.094718</td>\n",
       "      <td>0.0</td>\n",
       "      <td>NaN</td>\n",
       "      <td>NaN</td>\n",
       "      <td>Unnamed Road, Kawkhali, Bangladesh</td>\n",
       "    </tr>\n",
       "    <tr>\n",
       "      <th>1</th>\n",
       "      <td>ChIJjyA9oZytqjAR6apb48G7hSY</td>\n",
       "      <td>Salma Varaitis Store</td>\n",
       "      <td>22.619158</td>\n",
       "      <td>90.105594</td>\n",
       "      <td>5.0</td>\n",
       "      <td>1.0</td>\n",
       "      <td>NaN</td>\n",
       "      <td>Kawkhali bowlakanda, কাউখালি, Bangladesh</td>\n",
       "    </tr>\n",
       "    <tr>\n",
       "      <th>2</th>\n",
       "      <td>ChIJFYwq-zkLADoRf_tn0mu_rOQ</td>\n",
       "      <td>হাজী বিরিয়ানি হাউজ</td>\n",
       "      <td>22.289046</td>\n",
       "      <td>89.958509</td>\n",
       "      <td>5.0</td>\n",
       "      <td>1.0</td>\n",
       "      <td>NaN</td>\n",
       "      <td>Charkhali - Mathbaria – Patharghata Rd, Mathba...</td>\n",
       "    </tr>\n",
       "    <tr>\n",
       "      <th>3</th>\n",
       "      <td>ChIJPYyqnw8LADoRycl3-GrLje0</td>\n",
       "      <td>নিউ মুসলিম সুইটস এণ্ড বেকারি</td>\n",
       "      <td>22.288710</td>\n",
       "      <td>89.958482</td>\n",
       "      <td>5.0</td>\n",
       "      <td>4.0</td>\n",
       "      <td>NaN</td>\n",
       "      <td>সদর রোড, Mathbaria, Bangladesh</td>\n",
       "    </tr>\n",
       "    <tr>\n",
       "      <th>4</th>\n",
       "      <td>ChIJXU_rTB8LADoRYdOJ2LC_Vo4</td>\n",
       "      <td>মেসার্স সততা হোটেল এন্ড রেস্টুরেন্ট</td>\n",
       "      <td>22.286784</td>\n",
       "      <td>89.958116</td>\n",
       "      <td>0.0</td>\n",
       "      <td>NaN</td>\n",
       "      <td>NaN</td>\n",
       "      <td>7XP5+P69, Mathbaria, Bangladesh</td>\n",
       "    </tr>\n",
       "  </tbody>\n",
       "</table>\n",
       "</div>"
      ],
      "text/plain": [
       "                      place_id                                 name  \\\n",
       "0  ChIJx1i4PyCtqjARq5eQI4YeUFE           Jamal Store, Joykul Bazaar   \n",
       "1  ChIJjyA9oZytqjAR6apb48G7hSY                 Salma Varaitis Store   \n",
       "2  ChIJFYwq-zkLADoRf_tn0mu_rOQ                   হাজী বিরিয়ানি হাউজ   \n",
       "3  ChIJPYyqnw8LADoRycl3-GrLje0         নিউ মুসলিম সুইটস এণ্ড বেকারি   \n",
       "4  ChIJXU_rTB8LADoRYdOJ2LC_Vo4  মেসার্স সততা হোটেল এন্ড রেস্টুরেন্ট   \n",
       "\n",
       "    latitude  longitude  rating  number_of_reviews  affluence  \\\n",
       "0  22.604275  90.094718     0.0                NaN        NaN   \n",
       "1  22.619158  90.105594     5.0                1.0        NaN   \n",
       "2  22.289046  89.958509     5.0                1.0        NaN   \n",
       "3  22.288710  89.958482     5.0                4.0        NaN   \n",
       "4  22.286784  89.958116     0.0                NaN        NaN   \n",
       "\n",
       "                                             address  \n",
       "0                 Unnamed Road, Kawkhali, Bangladesh  \n",
       "1           Kawkhali bowlakanda, কাউখালি, Bangladesh  \n",
       "2  Charkhali - Mathbaria – Patharghata Rd, Mathba...  \n",
       "3                     সদর রোড, Mathbaria, Bangladesh  \n",
       "4                    7XP5+P69, Mathbaria, Bangladesh  "
      ]
     },
     "execution_count": 3,
     "metadata": {},
     "output_type": "execute_result"
    }
   ],
   "source": [
    "df.head()"
   ]
  },
  {
   "cell_type": "code",
   "execution_count": 4,
   "id": "a1e7b29b",
   "metadata": {},
   "outputs": [
    {
     "data": {
      "text/html": [
       "<div>\n",
       "<style scoped>\n",
       "    .dataframe tbody tr th:only-of-type {\n",
       "        vertical-align: middle;\n",
       "    }\n",
       "\n",
       "    .dataframe tbody tr th {\n",
       "        vertical-align: top;\n",
       "    }\n",
       "\n",
       "    .dataframe thead th {\n",
       "        text-align: right;\n",
       "    }\n",
       "</style>\n",
       "<table border=\"1\" class=\"dataframe\">\n",
       "  <thead>\n",
       "    <tr style=\"text-align: right;\">\n",
       "      <th></th>\n",
       "      <th>latitude</th>\n",
       "      <th>longitude</th>\n",
       "      <th>rating</th>\n",
       "      <th>number_of_reviews</th>\n",
       "      <th>affluence</th>\n",
       "    </tr>\n",
       "  </thead>\n",
       "  <tbody>\n",
       "    <tr>\n",
       "      <th>count</th>\n",
       "      <td>12703.000000</td>\n",
       "      <td>12703.000000</td>\n",
       "      <td>12702.000000</td>\n",
       "      <td>10037.000000</td>\n",
       "      <td>1770.000000</td>\n",
       "    </tr>\n",
       "    <tr>\n",
       "      <th>mean</th>\n",
       "      <td>23.781365</td>\n",
       "      <td>90.328629</td>\n",
       "      <td>3.226555</td>\n",
       "      <td>205.763176</td>\n",
       "      <td>1.879661</td>\n",
       "    </tr>\n",
       "    <tr>\n",
       "      <th>std</th>\n",
       "      <td>0.986665</td>\n",
       "      <td>0.984722</td>\n",
       "      <td>1.785468</td>\n",
       "      <td>801.054157</td>\n",
       "      <td>0.558286</td>\n",
       "    </tr>\n",
       "    <tr>\n",
       "      <th>min</th>\n",
       "      <td>20.856284</td>\n",
       "      <td>88.128098</td>\n",
       "      <td>0.000000</td>\n",
       "      <td>1.000000</td>\n",
       "      <td>1.000000</td>\n",
       "    </tr>\n",
       "    <tr>\n",
       "      <th>25%</th>\n",
       "      <td>23.106565</td>\n",
       "      <td>89.584881</td>\n",
       "      <td>3.000000</td>\n",
       "      <td>2.000000</td>\n",
       "      <td>2.000000</td>\n",
       "    </tr>\n",
       "    <tr>\n",
       "      <th>50%</th>\n",
       "      <td>23.751747</td>\n",
       "      <td>90.386950</td>\n",
       "      <td>4.000000</td>\n",
       "      <td>10.000000</td>\n",
       "      <td>2.000000</td>\n",
       "    </tr>\n",
       "    <tr>\n",
       "      <th>75%</th>\n",
       "      <td>24.387814</td>\n",
       "      <td>90.877606</td>\n",
       "      <td>4.300000</td>\n",
       "      <td>82.000000</td>\n",
       "      <td>2.000000</td>\n",
       "    </tr>\n",
       "    <tr>\n",
       "      <th>max</th>\n",
       "      <td>26.494126</td>\n",
       "      <td>92.438711</td>\n",
       "      <td>5.000000</td>\n",
       "      <td>17655.000000</td>\n",
       "      <td>4.000000</td>\n",
       "    </tr>\n",
       "  </tbody>\n",
       "</table>\n",
       "</div>"
      ],
      "text/plain": [
       "           latitude     longitude        rating  number_of_reviews  \\\n",
       "count  12703.000000  12703.000000  12702.000000       10037.000000   \n",
       "mean      23.781365     90.328629      3.226555         205.763176   \n",
       "std        0.986665      0.984722      1.785468         801.054157   \n",
       "min       20.856284     88.128098      0.000000           1.000000   \n",
       "25%       23.106565     89.584881      3.000000           2.000000   \n",
       "50%       23.751747     90.386950      4.000000          10.000000   \n",
       "75%       24.387814     90.877606      4.300000          82.000000   \n",
       "max       26.494126     92.438711      5.000000       17655.000000   \n",
       "\n",
       "         affluence  \n",
       "count  1770.000000  \n",
       "mean      1.879661  \n",
       "std       0.558286  \n",
       "min       1.000000  \n",
       "25%       2.000000  \n",
       "50%       2.000000  \n",
       "75%       2.000000  \n",
       "max       4.000000  "
      ]
     },
     "execution_count": 4,
     "metadata": {},
     "output_type": "execute_result"
    }
   ],
   "source": [
    "df.describe()"
   ]
  },
  {
   "cell_type": "markdown",
   "id": "9f48cb2a",
   "metadata": {},
   "source": [
    "### Checking duplicate values"
   ]
  },
  {
   "cell_type": "code",
   "execution_count": 5,
   "id": "c4df6555",
   "metadata": {},
   "outputs": [
    {
     "name": "stdout",
     "output_type": "stream",
     "text": [
      "There are 1945 duplicated rows present\n"
     ]
    }
   ],
   "source": [
    "dup = df.duplicated().sum()\n",
    "print(f\"There are {dup} duplicated rows present\")"
   ]
  },
  {
   "cell_type": "markdown",
   "id": "3c0a8ba0",
   "metadata": {},
   "source": [
    "### Remove the duplicate rows"
   ]
  },
  {
   "cell_type": "code",
   "execution_count": 6,
   "id": "2b535089",
   "metadata": {},
   "outputs": [],
   "source": [
    "df.drop_duplicates(keep=\"first\", inplace=True)"
   ]
  },
  {
   "cell_type": "code",
   "execution_count": 7,
   "id": "56b1ecee",
   "metadata": {},
   "outputs": [
    {
     "name": "stdout",
     "output_type": "stream",
     "text": [
      "Now there are 0 duplicated rows present\n"
     ]
    }
   ],
   "source": [
    "# again checking the results\n",
    "dup = df.duplicated().sum()\n",
    "print(f\"Now there are {dup} duplicated rows present\")"
   ]
  },
  {
   "cell_type": "markdown",
   "id": "3e184965",
   "metadata": {},
   "source": [
    "### Checking Null values"
   ]
  },
  {
   "cell_type": "code",
   "execution_count": 8,
   "id": "93cec53f",
   "metadata": {},
   "outputs": [
    {
     "data": {
      "text/plain": [
       "place_id                0\n",
       "name                    0\n",
       "latitude                0\n",
       "longitude               0\n",
       "rating                  1\n",
       "number_of_reviews    2536\n",
       "affluence            9730\n",
       "address                 0\n",
       "dtype: int64"
      ]
     },
     "execution_count": 8,
     "metadata": {},
     "output_type": "execute_result"
    }
   ],
   "source": [
    "df.isnull().sum()"
   ]
  },
  {
   "cell_type": "markdown",
   "id": "156e3797",
   "metadata": {},
   "source": [
    "Here we see that we have 1 missing values in rating column, 2536 missing values in number_of_reviews column and 9730 missing values in affluence column"
   ]
  },
  {
   "cell_type": "code",
   "execution_count": 9,
   "id": "a75906ca",
   "metadata": {},
   "outputs": [
    {
     "data": {
      "text/plain": [
       "10758"
      ]
     },
     "execution_count": 9,
     "metadata": {},
     "output_type": "execute_result"
    }
   ],
   "source": [
    "df.count().max()"
   ]
  },
  {
   "cell_type": "markdown",
   "id": "583abafe",
   "metadata": {},
   "source": [
    "Here we can see that we have a total of 10758 rows maximum and most of the rows are missing in the affluence column so we decided to drop the column"
   ]
  },
  {
   "cell_type": "code",
   "execution_count": 10,
   "id": "8fcb9641",
   "metadata": {},
   "outputs": [],
   "source": [
    "df = df.drop('affluence', axis=1)"
   ]
  },
  {
   "cell_type": "markdown",
   "id": "726bf09f",
   "metadata": {},
   "source": [
    "Next, we replace missing value of rating column with the mean value. "
   ]
  },
  {
   "cell_type": "code",
   "execution_count": 11,
   "id": "52331e79",
   "metadata": {},
   "outputs": [
    {
     "data": {
      "text/plain": [
       "3"
      ]
     },
     "execution_count": 11,
     "metadata": {},
     "output_type": "execute_result"
    }
   ],
   "source": [
    "round(df['rating'].mean())"
   ]
  },
  {
   "cell_type": "code",
   "execution_count": 12,
   "id": "9170f926",
   "metadata": {},
   "outputs": [
    {
     "data": {
      "text/html": [
       "<div>\n",
       "<style scoped>\n",
       "    .dataframe tbody tr th:only-of-type {\n",
       "        vertical-align: middle;\n",
       "    }\n",
       "\n",
       "    .dataframe tbody tr th {\n",
       "        vertical-align: top;\n",
       "    }\n",
       "\n",
       "    .dataframe thead th {\n",
       "        text-align: right;\n",
       "    }\n",
       "</style>\n",
       "<table border=\"1\" class=\"dataframe\">\n",
       "  <thead>\n",
       "    <tr style=\"text-align: right;\">\n",
       "      <th></th>\n",
       "      <th>place_id</th>\n",
       "      <th>name</th>\n",
       "      <th>latitude</th>\n",
       "      <th>longitude</th>\n",
       "      <th>rating</th>\n",
       "      <th>number_of_reviews</th>\n",
       "      <th>address</th>\n",
       "    </tr>\n",
       "  </thead>\n",
       "  <tbody>\n",
       "    <tr>\n",
       "      <th>11931</th>\n",
       "      <td>ChIJB21VbKDfrDARD2_wpGSbZ-o</td>\n",
       "      <td>সোহেল এর চা দোকান</td>\n",
       "      <td>22.306622</td>\n",
       "      <td>91.790417</td>\n",
       "      <td>NaN</td>\n",
       "      <td>NaN</td>\n",
       "      <td>8Q4R+J5V, Chattogram, Bangladesh</td>\n",
       "    </tr>\n",
       "  </tbody>\n",
       "</table>\n",
       "</div>"
      ],
      "text/plain": [
       "                          place_id               name   latitude  longitude  \\\n",
       "11931  ChIJB21VbKDfrDARD2_wpGSbZ-o  সোহেল এর চা দোকান  22.306622  91.790417   \n",
       "\n",
       "       rating  number_of_reviews                           address  \n",
       "11931     NaN                NaN  8Q4R+J5V, Chattogram, Bangladesh  "
      ]
     },
     "execution_count": 12,
     "metadata": {},
     "output_type": "execute_result"
    }
   ],
   "source": [
    "df[df['rating'].isnull() == True]  "
   ]
  },
  {
   "cell_type": "code",
   "execution_count": 13,
   "id": "d6df0d67",
   "metadata": {},
   "outputs": [],
   "source": [
    "df['rating'] = df['rating'].fillna(round(df['rating'].mean()))"
   ]
  },
  {
   "cell_type": "code",
   "execution_count": 14,
   "id": "1f754be5",
   "metadata": {},
   "outputs": [
    {
     "data": {
      "image/png": "[encoded data removed]",
      "text/plain": [
       "<Figure size 432x288 with 1 Axes>"
      ]
     },
     "metadata": {
      "needs_background": "light"
     },
     "output_type": "display_data"
    }
   ],
   "source": [
    "import matplotlib.pyplot as plt \n",
    "plt.scatter(df.index, df['number_of_reviews'])\n",
    "plt.xlabel('Index')\n",
    "plt.ylabel('number_of_reviews')\n",
    "plt.title('Scatter Plot of number_of_reviews')\n",
    "plt.show()"
   ]
  },
  {
   "cell_type": "code",
   "execution_count": 15,
   "id": "8e0c3acb",
   "metadata": {},
   "outputs": [
    {
     "data": {
      "text/plain": [
       "112.18803210897592"
      ]
     },
     "execution_count": 15,
     "metadata": {},
     "output_type": "execute_result"
    }
   ],
   "source": [
    "df['number_of_reviews'].mean()"
   ]
  },
  {
   "cell_type": "markdown",
   "id": "b106330d",
   "metadata": {},
   "source": [
    "We see that we could not find any reviews for some restaurants. So we consider the number of reviews for those restaurants to be zero"
   ]
  },
  {
   "cell_type": "code",
   "execution_count": 16,
   "id": "f83d0981",
   "metadata": {},
   "outputs": [],
   "source": [
    "df['number_of_reviews'] = df['number_of_reviews'].fillna(0)"
   ]
  },
  {
   "cell_type": "markdown",
   "id": "94fd62fc",
   "metadata": {},
   "source": [
    "### Checking location"
   ]
  },
  {
   "cell_type": "code",
   "execution_count": 20,
   "id": "802573a0",
   "metadata": {},
   "outputs": [
    {
     "data": {
      "text/html": [
       "<div>\n",
       "<style scoped>\n",
       "    .dataframe tbody tr th:only-of-type {\n",
       "        vertical-align: middle;\n",
       "    }\n",
       "\n",
       "    .dataframe tbody tr th {\n",
       "        vertical-align: top;\n",
       "    }\n",
       "\n",
       "    .dataframe thead th {\n",
       "        text-align: right;\n",
       "    }\n",
       "</style>\n",
       "<table border=\"1\" class=\"dataframe\">\n",
       "  <thead>\n",
       "    <tr style=\"text-align: right;\">\n",
       "      <th></th>\n",
       "      <th>place_id</th>\n",
       "      <th>name</th>\n",
       "      <th>latitude</th>\n",
       "      <th>longitude</th>\n",
       "      <th>rating</th>\n",
       "      <th>number_of_reviews</th>\n",
       "      <th>address</th>\n",
       "    </tr>\n",
       "  </thead>\n",
       "  <tbody>\n",
       "    <tr>\n",
       "      <th>2249</th>\n",
       "      <td>ChIJM3pmh-oZUzcRxEj0i0X72NM</td>\n",
       "      <td>Juice🍹&amp; Spice🌶</td>\n",
       "      <td>23.003974</td>\n",
       "      <td>91.729881</td>\n",
       "      <td>0.0</td>\n",
       "      <td>0.0</td>\n",
       "      <td>2P3H+HXJ, Sabroom, Tripura 799145, India</td>\n",
       "    </tr>\n",
       "    <tr>\n",
       "      <th>2252</th>\n",
       "      <td>ChIJ2dxRyT0ZUzcRVlumPmgbV3c</td>\n",
       "      <td>Pushpa fast food</td>\n",
       "      <td>23.000829</td>\n",
       "      <td>91.727325</td>\n",
       "      <td>4.7</td>\n",
       "      <td>9.0</td>\n",
       "      <td>Pushpa fast food chotokhil Rd, opposite of bag...</td>\n",
       "    </tr>\n",
       "  </tbody>\n",
       "</table>\n",
       "</div>"
      ],
      "text/plain": [
       "                         place_id              name   latitude  longitude  \\\n",
       "2249  ChIJM3pmh-oZUzcRxEj0i0X72NM    Juice🍹& Spice🌶  23.003974  91.729881   \n",
       "2252  ChIJ2dxRyT0ZUzcRVlumPmgbV3c  Pushpa fast food  23.000829  91.727325   \n",
       "\n",
       "      rating  number_of_reviews  \\\n",
       "2249     0.0                0.0   \n",
       "2252     4.7                9.0   \n",
       "\n",
       "                                                address  \n",
       "2249           2P3H+HXJ, Sabroom, Tripura 799145, India  \n",
       "2252  Pushpa fast food chotokhil Rd, opposite of bag...  "
      ]
     },
     "execution_count": 20,
     "metadata": {},
     "output_type": "execute_result"
    }
   ],
   "source": [
    "df[df['address'].str.contains('Bangladesh')==False].head(2)"
   ]
  },
  {
   "cell_type": "code",
   "execution_count": 21,
   "id": "1e83d656",
   "metadata": {},
   "outputs": [
    {
     "data": {
      "text/plain": [
       "place_id             62\n",
       "name                 62\n",
       "latitude             62\n",
       "longitude            62\n",
       "rating               62\n",
       "number_of_reviews    62\n",
       "address              62\n",
       "dtype: int64"
      ]
     },
     "execution_count": 21,
     "metadata": {},
     "output_type": "execute_result"
    }
   ],
   "source": [
    "df[df['address'].str.contains('Bangladesh')==False].count()"
   ]
  },
  {
   "cell_type": "markdown",
   "id": "b630cfb7",
   "metadata": {},
   "source": [
    "We see that there are some resturant outside of Bangladesh. So we need to remove them. "
   ]
  },
  {
   "cell_type": "code",
   "execution_count": 23,
   "id": "2ea430fa",
   "metadata": {},
   "outputs": [],
   "source": [
    "df = df[df['address'].str.contains('Bangladesh')==True]\n",
    "df.reset_index(drop=True, inplace=True)"
   ]
  },
  {
   "cell_type": "code",
   "execution_count": 27,
   "id": "743a0af0",
   "metadata": {},
   "outputs": [
    {
     "data": {
      "text/plain": [
       "0             Jamal Store, Joykul Bazaar\n",
       "1                   Salma Varaitis Store\n",
       "2                     হাজী বিরিয়ানি হাউজ\n",
       "3           নিউ মুসলিম সুইটস এণ্ড বেকারি\n",
       "4    মেসার্স সততা হোটেল এন্ড রেস্টুরেন্ট\n",
       "Name: name, dtype: object"
      ]
     },
     "execution_count": 27,
     "metadata": {},
     "output_type": "execute_result"
    }
   ],
   "source": [
    "df['name'].head()"
   ]
  },
  {
   "cell_type": "markdown",
   "id": "495fc9cd",
   "metadata": {},
   "source": [
    "We see that some of the resturant name contains bangla. So we need to separate them. "
   ]
  },
  {
   "cell_type": "code",
   "execution_count": 32,
   "id": "021cfd9d",
   "metadata": {},
   "outputs": [],
   "source": [
    "import re\n",
    "reg = re.compile(r'[a-zA-Z]')\n",
    "df[\"name_type\"] = df[\"name\"].apply(lambda x: \"English\" if reg.match(x) else \"Bangla\")\n",
    "df_english = df[df['name_type'] == \"English\"]\n",
    "df_bangla  = df[df['name_type'] == \"Bangla\"]  "
   ]
  },
  {
   "cell_type": "code",
   "execution_count": 43,
   "id": "c6ce192c",
   "metadata": {},
   "outputs": [
    {
     "data": {
      "text/plain": [
       "0     Jamal Store, Joykul Bazaar\n",
       "1           Salma Varaitis Store\n",
       "5               Sharif food fair\n",
       "11       Food Club The Caterer's\n",
       "13    New Muslim Sweets & bekare\n",
       "Name: name, dtype: object"
      ]
     },
     "execution_count": 43,
     "metadata": {},
     "output_type": "execute_result"
    }
   ],
   "source": [
    "df_english['name'].head()"
   ]
  },
  {
   "cell_type": "code",
   "execution_count": 44,
   "id": "f36ebbd4",
   "metadata": {},
   "outputs": [
    {
     "data": {
      "text/plain": [
       "2                              হাজী বিরিয়ানি হাউজ\n",
       "3                    নিউ মুসলিম সুইটস এণ্ড বেকারি\n",
       "4             মেসার্স সততা হোটেল এন্ড রেস্টুরেন্ট\n",
       "6                            সোহেল রানা কাটোল ফাম\n",
       "7    মেসার্স সৌখিন ষ্টীল এন্ড পার্টেক্স ফার্নিচার\n",
       "Name: name, dtype: object"
      ]
     },
     "execution_count": 44,
     "metadata": {},
     "output_type": "execute_result"
    }
   ],
   "source": [
    "df_bangla['name'].head()"
   ]
  },
  {
   "cell_type": "code",
   "execution_count": 47,
   "id": "b326d76c",
   "metadata": {},
   "outputs": [
    {
     "data": {
      "text/plain": [
       "Index(['place_id', 'name', 'latitude', 'longitude', 'rating',\n",
       "       'number_of_reviews', 'address', 'name_type'],\n",
       "      dtype='object')"
      ]
     },
     "execution_count": 47,
     "metadata": {},
     "output_type": "execute_result"
    }
   ],
   "source": [
    "df.columns"
   ]
  },
  {
   "cell_type": "markdown",
   "id": "efbb74cc",
   "metadata": {},
   "source": [
    "### Recommendation System - Part I\n",
    "Restaurants popularity based recommendation system targeted at new customers"
   ]
  },
  {
   "cell_type": "code",
   "execution_count": 52,
   "id": "56f20b4d",
   "metadata": {},
   "outputs": [
    {
     "data": {
      "text/html": [
       "<div>\n",
       "<style scoped>\n",
       "    .dataframe tbody tr th:only-of-type {\n",
       "        vertical-align: middle;\n",
       "    }\n",
       "\n",
       "    .dataframe tbody tr th {\n",
       "        vertical-align: top;\n",
       "    }\n",
       "\n",
       "    .dataframe thead th {\n",
       "        text-align: right;\n",
       "    }\n",
       "</style>\n",
       "<table border=\"1\" class=\"dataframe\">\n",
       "  <thead>\n",
       "    <tr style=\"text-align: right;\">\n",
       "      <th></th>\n",
       "      <th>rating</th>\n",
       "    </tr>\n",
       "    <tr>\n",
       "      <th>name</th>\n",
       "      <th></th>\n",
       "    </tr>\n",
       "  </thead>\n",
       "  <tbody>\n",
       "    <tr>\n",
       "      <th>Bismillah Hotel &amp; Restaurant</th>\n",
       "      <td>18</td>\n",
       "    </tr>\n",
       "    <tr>\n",
       "      <th>Bismillah Hotel</th>\n",
       "      <td>15</td>\n",
       "    </tr>\n",
       "    <tr>\n",
       "      <th>ভাই ভাই হোটেল</th>\n",
       "      <td>15</td>\n",
       "    </tr>\n",
       "    <tr>\n",
       "      <th>Restaurant</th>\n",
       "      <td>11</td>\n",
       "    </tr>\n",
       "    <tr>\n",
       "      <th>বিসমিল্লাহ হোটেল</th>\n",
       "      <td>10</td>\n",
       "    </tr>\n",
       "    <tr>\n",
       "      <th>Bismillah Restaurant</th>\n",
       "      <td>10</td>\n",
       "    </tr>\n",
       "    <tr>\n",
       "      <th>Kazi Farms Kitchen</th>\n",
       "      <td>7</td>\n",
       "    </tr>\n",
       "    <tr>\n",
       "      <th>ভাই ভাই হোটেল এন্ড রেস্টুরেন্ট</th>\n",
       "      <td>6</td>\n",
       "    </tr>\n",
       "    <tr>\n",
       "      <th>Bhai Bhai Hotel &amp; Restaurant</th>\n",
       "      <td>6</td>\n",
       "    </tr>\n",
       "    <tr>\n",
       "      <th>বিসমিল্লাহ হোটেল এন্ড রেস্টুরেন্ট</th>\n",
       "      <td>6</td>\n",
       "    </tr>\n",
       "  </tbody>\n",
       "</table>\n",
       "</div>"
      ],
      "text/plain": [
       "                                   rating\n",
       "name                                     \n",
       "Bismillah Hotel & Restaurant           18\n",
       "Bismillah Hotel                        15\n",
       "ভাই ভাই হোটেল                          15\n",
       "Restaurant                             11\n",
       "বিসমিল্লাহ হোটেল                       10\n",
       "Bismillah Restaurant                   10\n",
       "Kazi Farms Kitchen                      7\n",
       "ভাই ভাই হোটেল এন্ড রেস্টুরেন্ট          6\n",
       "Bhai Bhai Hotel & Restaurant            6\n",
       "বিসমিল্লাহ হোটেল এন্ড রেস্টুরেন্ট       6"
      ]
     },
     "execution_count": 52,
     "metadata": {},
     "output_type": "execute_result"
    }
   ],
   "source": [
    "popular_restaurants = pd.DataFrame(df.groupby(['name'])['rating'].count())\n",
    "most_popular = popular_restaurants.sort_values('rating', ascending=False)\n",
    "most_popular.head(10)"
   ]
  },
  {
   "cell_type": "code",
   "execution_count": 64,
   "id": "e5917bf0",
   "metadata": {},
   "outputs": [
    {
     "data": {
      "text/plain": [
       "'বিসমিল্লাহ হোটেল'"
      ]
     },
     "execution_count": 64,
     "metadata": {},
     "output_type": "execute_result"
    }
   ],
   "source": [
    "most_popular.iloc[4].name"
   ]
  },
  {
   "cell_type": "code",
   "execution_count": 56,
   "id": "4902134b",
   "metadata": {},
   "outputs": [],
   "source": [
    "a = df[df['name']==\"বিসমিল্লাহ হোটেল\"]"
   ]
  },
  {
   "cell_type": "code",
   "execution_count": 57,
   "id": "38e32a1f",
   "metadata": {},
   "outputs": [
    {
     "data": {
      "text/plain": [
       "201     Companiganj - Nabinagar Rd, Nabinagar, Bangladesh\n",
       "443                    Unnamed Road, Haziganj, Bangladesh\n",
       "2678                      M566+9R3, Nawabganj, Bangladesh\n",
       "3901                         বাজার উপজেলা রোড, Bangladesh\n",
       "4188                          Sadhur Bazar Rd, Bangladesh\n",
       "4587                Unnamed Road, Sharankhola, Bangladesh\n",
       "4912                      G5R8+84V, Jhenaidah, Bangladesh\n",
       "5426    College Bus Stand, সাতক্ষীরা - কলারোয়া সড়ক, ...\n",
       "7486    Sundarganj - Chander Mor Rd, Sundarganj, Bangl...\n",
       "8031                       ব্রাক মোড়, Kursha, Bangladesh\n",
       "Name: address, dtype: object"
      ]
     },
     "execution_count": 57,
     "metadata": {},
     "output_type": "execute_result"
    }
   ],
   "source": [
    "a['address']"
   ]
  },
  {
   "cell_type": "markdown",
   "id": "6b13cdc7",
   "metadata": {},
   "source": [
    "### Recommendation System - Part II"
   ]
  },
  {
   "cell_type": "code",
   "execution_count": 118,
   "id": "f1dd5144",
   "metadata": {},
   "outputs": [
    {
     "data": {
      "text/plain": [
       "KMeans(n_clusters=5, random_state=42)"
      ]
     },
     "execution_count": 118,
     "metadata": {},
     "output_type": "execute_result"
    }
   ],
   "source": [
    "from sklearn.cluster import KMeans\n",
    "X = df[['rating', 'number_of_reviews']]\n",
    "\n",
    "k = 5  \n",
    "kmeans = KMeans(n_clusters=k, random_state=42)\n",
    "kmeans.fit(X)"
   ]
  },
  {
   "cell_type": "code",
   "execution_count": 120,
   "id": "ffd43ae3",
   "metadata": {},
   "outputs": [],
   "source": [
    "df['cluster'] = kmeans.labels_"
   ]
  },
  {
   "cell_type": "code",
   "execution_count": 121,
   "id": "a00acd36",
   "metadata": {},
   "outputs": [],
   "source": [
    "# Calculate the average rating for each cluster\n",
    "cluster_ratings = df.groupby('cluster')['rating'].mean().reset_index()\n",
    "\n",
    "# Sort the clusters based on average rating in descending order\n",
    "sorted_clusters = cluster_ratings.sort_values('rating', ascending=False)"
   ]
  },
  {
   "cell_type": "code",
   "execution_count": 122,
   "id": "02840af8",
   "metadata": {},
   "outputs": [
    {
     "data": {
      "text/html": [
       "<div>\n",
       "<style scoped>\n",
       "    .dataframe tbody tr th:only-of-type {\n",
       "        vertical-align: middle;\n",
       "    }\n",
       "\n",
       "    .dataframe tbody tr th {\n",
       "        vertical-align: top;\n",
       "    }\n",
       "\n",
       "    .dataframe thead th {\n",
       "        text-align: right;\n",
       "    }\n",
       "</style>\n",
       "<table border=\"1\" class=\"dataframe\">\n",
       "  <thead>\n",
       "    <tr style=\"text-align: right;\">\n",
       "      <th></th>\n",
       "      <th>cluster</th>\n",
       "      <th>rating</th>\n",
       "    </tr>\n",
       "  </thead>\n",
       "  <tbody>\n",
       "    <tr>\n",
       "      <th>2</th>\n",
       "      <td>2</td>\n",
       "      <td>4.120000</td>\n",
       "    </tr>\n",
       "    <tr>\n",
       "      <th>4</th>\n",
       "      <td>4</td>\n",
       "      <td>4.105051</td>\n",
       "    </tr>\n",
       "    <tr>\n",
       "      <th>3</th>\n",
       "      <td>3</td>\n",
       "      <td>4.000708</td>\n",
       "    </tr>\n",
       "    <tr>\n",
       "      <th>1</th>\n",
       "      <td>1</td>\n",
       "      <td>3.994118</td>\n",
       "    </tr>\n",
       "    <tr>\n",
       "      <th>0</th>\n",
       "      <td>0</td>\n",
       "      <td>3.074190</td>\n",
       "    </tr>\n",
       "  </tbody>\n",
       "</table>\n",
       "</div>"
      ],
      "text/plain": [
       "   cluster    rating\n",
       "2        2  4.120000\n",
       "4        4  4.105051\n",
       "3        3  4.000708\n",
       "1        1  3.994118\n",
       "0        0  3.074190"
      ]
     },
     "execution_count": 122,
     "metadata": {},
     "output_type": "execute_result"
    }
   ],
   "source": [
    "sorted_clusters"
   ]
  },
  {
   "cell_type": "code",
   "execution_count": 138,
   "id": "6dd8e6f8",
   "metadata": {},
   "outputs": [
    {
     "name": "stdout",
     "output_type": "stream",
     "text": [
      "                         place_id                 name   latitude  longitude  \\\n",
      "8817  ChIJh8lweytVUDcRXzCQrpgEXxE  Pach Vai Restaurant  24.894831  91.866458   \n",
      "\n",
      "      rating  number_of_reviews                                address  \\\n",
      "8817     4.4            11459.0  Jallarpar Rd, Sylhet 3100, Bangladesh   \n",
      "\n",
      "     name_type  cluster  \n",
      "8817   English        2  \n",
      "                         place_id              name   latitude  longitude  \\\n",
      "9103  ChIJtV6eiAvHVTcRCxBoKR6ibfE  Yum Cha District  23.790174  90.408053   \n",
      "\n",
      "      rating  number_of_reviews  \\\n",
      "9103     4.5             2814.0   \n",
      "\n",
      "                                                address name_type  cluster  \n",
      "9103  House 25, 2nd Floor, BFC Building, Rd No. 11, ...   English        4  \n",
      "                        place_id                                    name  \\\n",
      "362  ChIJYWc2nJL8VDcRYg9t_c_BfCw  রসুইঘর রেষ্টুরেন্ট এন্ড পার্টি সেন্টার   \n",
      "\n",
      "      latitude  longitude  rating  number_of_reviews  \\\n",
      "362  23.226131   90.65997     4.7              818.0   \n",
      "\n",
      "                                       address name_type  cluster  \n",
      "362  Haji Mohsin Rd, Chandpur 3600, Bangladesh    Bangla        3  \n",
      "                         place_id            name   latitude  longitude  \\\n",
      "9111  ChIJD-LJDhLHVTcRlRlxntfUiYg  Takeout Banani  23.793107  90.405749   \n",
      "\n",
      "      rating  number_of_reviews  \\\n",
      "9111     4.4             5433.0   \n",
      "\n",
      "                                                address name_type  cluster  \n",
      "9111  Plot No. 35, Abedin Tower, 1st Floor, Road No ...   English        1  \n",
      "                      place_id                  name   latitude  longitude  \\\n",
      "1  ChIJjyA9oZytqjAR6apb48G7hSY  Salma Varaitis Store  22.619158  90.105594   \n",
      "\n",
      "   rating  number_of_reviews                                   address  \\\n",
      "1     5.0                1.0  Kawkhali bowlakanda, কাউখালি, Bangladesh   \n",
      "\n",
      "  name_type  cluster  \n",
      "1   English        0  \n"
     ]
    }
   ],
   "source": [
    "# Recommend the top-rated restaurant from each cluster\n",
    "recommendations = []\n",
    "for i, row in sorted_clusters.iterrows():\n",
    "    cluster = row['cluster']\n",
    "    top_restaurant = df[df['cluster'] == cluster].nlargest(1, 'rating')\n",
    "    print(top_restaurant)\n",
    "    recommendations.append(top_restaurant)"
   ]
  },
  {
   "cell_type": "code",
   "execution_count": 139,
   "id": "4415f1b1",
   "metadata": {},
   "outputs": [
    {
     "name": "stdout",
     "output_type": "stream",
     "text": [
      "Recommended Restaurants:\n",
      "Pach Vai Restaurant (Rating: 4.4)\n",
      "Yum Cha District (Rating: 4.5)\n",
      "রসুইঘর রেষ্টুরেন্ট এন্ড পার্টি সেন্টার (Rating: 4.7)\n",
      "Takeout Banani (Rating: 4.4)\n",
      "Salma Varaitis Store (Rating: 5.0)\n"
     ]
    }
   ],
   "source": [
    "# Print the recommended restaurants\n",
    "print(\"Recommended Restaurants:\")\n",
    "for recommendation in recommendations:\n",
    "    print(f\"{recommendation['name'].values[0]} (Rating: {recommendation['rating'].values[0]})\")"
   ]
  }
 ],
 "metadata": {
  "kernelspec": {
   "display_name": "Python 3 (ipykernel)",
   "language": "python",
   "name": "python3"
  },
  "language_info": {
   "codemirror_mode": {
    "name": "ipython",
    "version": 3
   },
   "file_extension": ".py",
   "mimetype": "text/x-python",
   "name": "python",
   "nbconvert_exporter": "python",
   "pygments_lexer": "ipython3",
   "version": "3.9.6"
  }
 },
 "nbformat": 4,
 "nbformat_minor": 5
}
